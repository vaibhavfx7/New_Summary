{
 "cells": [
  {
   "cell_type": "code",
   "execution_count": 1,
   "metadata": {},
   "outputs": [],
   "source": [
    "import numpy as np \n",
    "import pandas as pd\n",
    "from os import listdir\n",
    "import requests\n",
    "from bs4 import BeautifulSoup\n",
    "import matplotlib.pyplot as plt"
   ]
  },
  {
   "cell_type": "code",
   "execution_count": 12,
   "metadata": {},
   "outputs": [],
   "source": [
    "x=pd.read_csv(\"news_summary.csv\", encoding='latin-1')\n",
    "y=pd.read_csv(\"news_summary_more.csv\", encoding='latin-1')"
   ]
  },
  {
   "cell_type": "code",
   "execution_count": 16,
   "metadata": {},
   "outputs": [
    {
     "name": "stdout",
     "output_type": "stream",
     "text": [
      "358 2313\n"
     ]
    },
    {
     "data": {
      "text/plain": [
       "375"
      ]
     },
     "execution_count": 16,
     "metadata": {},
     "output_type": "execute_result"
    }
   ],
   "source": [
    "print(len(x[\"text\"][0]),len(x[\"ctext\"][0]))\n",
    "len(y[\"text\"][0])"
   ]
  },
  {
   "cell_type": "code",
   "execution_count": 22,
   "metadata": {},
   "outputs": [],
   "source": [
    "lenx1=[]\n",
    "lenx2=[]\n",
    "leny1=[]\n",
    "leny2=[]\n",
    "for  i in range(max(len(x[\"text\"]),len(y[\"text\"]))):\n",
    "    if i<len(x[\"text\"]):\n",
    "        lenx1.append(x[\"text\"][i])\n",
    "    if i<len(x[\"ctext\"]):\n",
    "        lenx2.append(x[\"ctext\"][i])\n",
    "    if i<len(y[\"text\"]):\n",
    "        leny1.append(y[\"text\"][i])\n",
    "    if i<len(y[\"headlines\"]):\n",
    "        leny1.append(y[\"headlines\"][i])"
   ]
  },
  {
   "cell_type": "code",
   "execution_count": 28,
   "metadata": {},
   "outputs": [],
   "source": [
    "indx1=np.arange(len(lenx1))\n",
    "indy1=np.arange(len(leny1))\n",
    "indx2=np.arange(len(lenx2))"
   ]
  },
  {
   "cell_type": "code",
   "execution_count": null,
   "metadata": {},
   "outputs": [
    {
     "data": {
      "text/plain": [
       "(array([556., 444., 441., 439., 438., 438., 434., 436., 438., 450.]),\n",
       " array([198507. , 198941.1, 199375.2, 199809.3, 200243.4, 200677.5,\n",
       "        201111.6, 201545.7, 201979.8, 202413.9, 202848. ]),\n",
       " <a list of 10 Patch objects>)"
      ]
     },
     "execution_count": 30,
     "metadata": {},
     "output_type": "execute_result"
    }
   ],
   "source": [
    "plt.hist(lenx1)\n",
    "plt.hist(leny1)\n",
    "plt.hist(lenx2)"
   ]
  },
  {
   "cell_type": "code",
   "execution_count": null,
   "metadata": {},
   "outputs": [],
   "source": [
    "plt.show()"
   ]
  },
  {
   "cell_type": "code",
   "execution_count": null,
   "metadata": {},
   "outputs": [],
   "source": []
  }
 ],
 "metadata": {
  "kernelspec": {
   "display_name": "Python 3",
   "language": "python",
   "name": "python3"
  },
  "language_info": {
   "codemirror_mode": {
    "name": "ipython",
    "version": 3
   },
   "file_extension": ".py",
   "mimetype": "text/x-python",
   "name": "python",
   "nbconvert_exporter": "python",
   "pygments_lexer": "ipython3",
   "version": "3.6.5"
  }
 },
 "nbformat": 4,
 "nbformat_minor": 2
}
